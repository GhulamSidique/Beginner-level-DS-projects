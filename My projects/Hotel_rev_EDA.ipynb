{
 "cells": [
  {
   "cell_type": "markdown",
   "metadata": {},
   "source": [
    "# This project will mainly focus on the reviews of the most visited hotels"
   ]
  },
  {
   "cell_type": "code",
   "execution_count": 1,
   "metadata": {},
   "outputs": [],
   "source": [
    "import pandas as pd\n",
    "import numpy as np\n",
    "import matplotlib.pyplot as plt\n",
    "import seaborn as sns"
   ]
  },
  {
   "cell_type": "markdown",
   "metadata": {},
   "source": [
    "#### 1. Data Cleaning and modification"
   ]
  },
  {
   "cell_type": "markdown",
   "metadata": {},
   "source": [
    "##### Data reading"
   ]
  },
  {
   "cell_type": "code",
   "execution_count": 2,
   "metadata": {},
   "outputs": [
    {
     "data": {
      "text/html": [
       "<div>\n",
       "<style scoped>\n",
       "    .dataframe tbody tr th:only-of-type {\n",
       "        vertical-align: middle;\n",
       "    }\n",
       "\n",
       "    .dataframe tbody tr th {\n",
       "        vertical-align: top;\n",
       "    }\n",
       "\n",
       "    .dataframe thead th {\n",
       "        text-align: right;\n",
       "    }\n",
       "</style>\n",
       "<table border=\"1\" class=\"dataframe\">\n",
       "  <thead>\n",
       "    <tr style=\"text-align: right;\">\n",
       "      <th></th>\n",
       "      <th>Hotel_Address</th>\n",
       "      <th>Additional_Number_of_Scoring</th>\n",
       "      <th>Review_Date</th>\n",
       "      <th>Average_Score</th>\n",
       "      <th>Hotel_Name</th>\n",
       "      <th>Reviewer_Nationality</th>\n",
       "      <th>Negative_Review</th>\n",
       "      <th>Review_Total_Negative_Word_Counts</th>\n",
       "      <th>Total_Number_of_Reviews</th>\n",
       "      <th>Positive_Review</th>\n",
       "      <th>Review_Total_Positive_Word_Counts</th>\n",
       "      <th>Total_Number_of_Reviews_Reviewer_Has_Given</th>\n",
       "      <th>Reviewer_Score</th>\n",
       "      <th>Tags</th>\n",
       "      <th>days_since_review</th>\n",
       "      <th>lat</th>\n",
       "      <th>lng</th>\n",
       "    </tr>\n",
       "  </thead>\n",
       "  <tbody>\n",
       "    <tr>\n",
       "      <th>0</th>\n",
       "      <td>s Gravesandestraat 55 Oost 1092 AA Amsterdam ...</td>\n",
       "      <td>194</td>\n",
       "      <td>8/3/2017</td>\n",
       "      <td>7.7</td>\n",
       "      <td>Hotel Arena</td>\n",
       "      <td>Russia</td>\n",
       "      <td>I am so angry that i made this post available...</td>\n",
       "      <td>397</td>\n",
       "      <td>1403</td>\n",
       "      <td>Only the park outside of the hotel was beauti...</td>\n",
       "      <td>11</td>\n",
       "      <td>7</td>\n",
       "      <td>2.9</td>\n",
       "      <td>[' Leisure trip ', ' Couple ', ' Duplex Double...</td>\n",
       "      <td>0 days</td>\n",
       "      <td>52.360576</td>\n",
       "      <td>4.915968</td>\n",
       "    </tr>\n",
       "    <tr>\n",
       "      <th>1</th>\n",
       "      <td>s Gravesandestraat 55 Oost 1092 AA Amsterdam ...</td>\n",
       "      <td>194</td>\n",
       "      <td>8/3/2017</td>\n",
       "      <td>7.7</td>\n",
       "      <td>Hotel Arena</td>\n",
       "      <td>Ireland</td>\n",
       "      <td>No Negative</td>\n",
       "      <td>0</td>\n",
       "      <td>1403</td>\n",
       "      <td>No real complaints the hotel was great great ...</td>\n",
       "      <td>105</td>\n",
       "      <td>7</td>\n",
       "      <td>7.5</td>\n",
       "      <td>[' Leisure trip ', ' Couple ', ' Duplex Double...</td>\n",
       "      <td>0 days</td>\n",
       "      <td>52.360576</td>\n",
       "      <td>4.915968</td>\n",
       "    </tr>\n",
       "    <tr>\n",
       "      <th>2</th>\n",
       "      <td>s Gravesandestraat 55 Oost 1092 AA Amsterdam ...</td>\n",
       "      <td>194</td>\n",
       "      <td>7/31/2017</td>\n",
       "      <td>7.7</td>\n",
       "      <td>Hotel Arena</td>\n",
       "      <td>Australia</td>\n",
       "      <td>Rooms are nice but for elderly a bit difficul...</td>\n",
       "      <td>42</td>\n",
       "      <td>1403</td>\n",
       "      <td>Location was good and staff were ok It is cut...</td>\n",
       "      <td>21</td>\n",
       "      <td>9</td>\n",
       "      <td>7.1</td>\n",
       "      <td>[' Leisure trip ', ' Family with young childre...</td>\n",
       "      <td>3 days</td>\n",
       "      <td>52.360576</td>\n",
       "      <td>4.915968</td>\n",
       "    </tr>\n",
       "    <tr>\n",
       "      <th>3</th>\n",
       "      <td>s Gravesandestraat 55 Oost 1092 AA Amsterdam ...</td>\n",
       "      <td>194</td>\n",
       "      <td>7/31/2017</td>\n",
       "      <td>7.7</td>\n",
       "      <td>Hotel Arena</td>\n",
       "      <td>United Kingdom</td>\n",
       "      <td>My room was dirty and I was afraid to walk ba...</td>\n",
       "      <td>210</td>\n",
       "      <td>1403</td>\n",
       "      <td>Great location in nice surroundings the bar a...</td>\n",
       "      <td>26</td>\n",
       "      <td>1</td>\n",
       "      <td>3.8</td>\n",
       "      <td>[' Leisure trip ', ' Solo traveler ', ' Duplex...</td>\n",
       "      <td>3 days</td>\n",
       "      <td>52.360576</td>\n",
       "      <td>4.915968</td>\n",
       "    </tr>\n",
       "    <tr>\n",
       "      <th>4</th>\n",
       "      <td>s Gravesandestraat 55 Oost 1092 AA Amsterdam ...</td>\n",
       "      <td>194</td>\n",
       "      <td>7/24/2017</td>\n",
       "      <td>7.7</td>\n",
       "      <td>Hotel Arena</td>\n",
       "      <td>New Zealand</td>\n",
       "      <td>You When I booked with your company on line y...</td>\n",
       "      <td>140</td>\n",
       "      <td>1403</td>\n",
       "      <td>Amazing location and building Romantic setting</td>\n",
       "      <td>8</td>\n",
       "      <td>3</td>\n",
       "      <td>6.7</td>\n",
       "      <td>[' Leisure trip ', ' Couple ', ' Suite ', ' St...</td>\n",
       "      <td>10 days</td>\n",
       "      <td>52.360576</td>\n",
       "      <td>4.915968</td>\n",
       "    </tr>\n",
       "    <tr>\n",
       "      <th>5</th>\n",
       "      <td>s Gravesandestraat 55 Oost 1092 AA Amsterdam ...</td>\n",
       "      <td>194</td>\n",
       "      <td>7/24/2017</td>\n",
       "      <td>7.7</td>\n",
       "      <td>Hotel Arena</td>\n",
       "      <td>Poland</td>\n",
       "      <td>Backyard of the hotel is total mess shouldn t...</td>\n",
       "      <td>17</td>\n",
       "      <td>1403</td>\n",
       "      <td>Good restaurant with modern design great chil...</td>\n",
       "      <td>20</td>\n",
       "      <td>1</td>\n",
       "      <td>6.7</td>\n",
       "      <td>[' Leisure trip ', ' Group ', ' Duplex Double ...</td>\n",
       "      <td>10 days</td>\n",
       "      <td>52.360576</td>\n",
       "      <td>4.915968</td>\n",
       "    </tr>\n",
       "    <tr>\n",
       "      <th>6</th>\n",
       "      <td>s Gravesandestraat 55 Oost 1092 AA Amsterdam ...</td>\n",
       "      <td>194</td>\n",
       "      <td>7/17/2017</td>\n",
       "      <td>7.7</td>\n",
       "      <td>Hotel Arena</td>\n",
       "      <td>United Kingdom</td>\n",
       "      <td>Cleaner did not change our sheet and duvet ev...</td>\n",
       "      <td>33</td>\n",
       "      <td>1403</td>\n",
       "      <td>The room is spacious and bright The hotel is ...</td>\n",
       "      <td>18</td>\n",
       "      <td>6</td>\n",
       "      <td>4.6</td>\n",
       "      <td>[' Leisure trip ', ' Group ', ' Duplex Twin Ro...</td>\n",
       "      <td>17 days</td>\n",
       "      <td>52.360576</td>\n",
       "      <td>4.915968</td>\n",
       "    </tr>\n",
       "    <tr>\n",
       "      <th>7</th>\n",
       "      <td>s Gravesandestraat 55 Oost 1092 AA Amsterdam ...</td>\n",
       "      <td>194</td>\n",
       "      <td>7/17/2017</td>\n",
       "      <td>7.7</td>\n",
       "      <td>Hotel Arena</td>\n",
       "      <td>United Kingdom</td>\n",
       "      <td>Apart from the price for the brekfast Everyth...</td>\n",
       "      <td>11</td>\n",
       "      <td>1403</td>\n",
       "      <td>Good location Set in a lovely park friendly s...</td>\n",
       "      <td>19</td>\n",
       "      <td>1</td>\n",
       "      <td>10.0</td>\n",
       "      <td>[' Leisure trip ', ' Couple ', ' Duplex Double...</td>\n",
       "      <td>17 days</td>\n",
       "      <td>52.360576</td>\n",
       "      <td>4.915968</td>\n",
       "    </tr>\n",
       "    <tr>\n",
       "      <th>8</th>\n",
       "      <td>s Gravesandestraat 55 Oost 1092 AA Amsterdam ...</td>\n",
       "      <td>194</td>\n",
       "      <td>7/9/2017</td>\n",
       "      <td>7.7</td>\n",
       "      <td>Hotel Arena</td>\n",
       "      <td>Belgium</td>\n",
       "      <td>Even though the pictures show very clean room...</td>\n",
       "      <td>34</td>\n",
       "      <td>1403</td>\n",
       "      <td>No Positive</td>\n",
       "      <td>0</td>\n",
       "      <td>3</td>\n",
       "      <td>6.5</td>\n",
       "      <td>[' Leisure trip ', ' Couple ', ' Duplex Double...</td>\n",
       "      <td>25 days</td>\n",
       "      <td>52.360576</td>\n",
       "      <td>4.915968</td>\n",
       "    </tr>\n",
       "    <tr>\n",
       "      <th>9</th>\n",
       "      <td>s Gravesandestraat 55 Oost 1092 AA Amsterdam ...</td>\n",
       "      <td>194</td>\n",
       "      <td>7/8/2017</td>\n",
       "      <td>7.7</td>\n",
       "      <td>Hotel Arena</td>\n",
       "      <td>Norway</td>\n",
       "      <td>The aircondition makes so much noise and its ...</td>\n",
       "      <td>15</td>\n",
       "      <td>1403</td>\n",
       "      <td>The room was big enough and the bed is good T...</td>\n",
       "      <td>50</td>\n",
       "      <td>1</td>\n",
       "      <td>7.9</td>\n",
       "      <td>[' Leisure trip ', ' Couple ', ' Large King Ro...</td>\n",
       "      <td>26 days</td>\n",
       "      <td>52.360576</td>\n",
       "      <td>4.915968</td>\n",
       "    </tr>\n",
       "  </tbody>\n",
       "</table>\n",
       "</div>"
      ],
      "text/plain": [
       "                                       Hotel_Address  \\\n",
       "0   s Gravesandestraat 55 Oost 1092 AA Amsterdam ...   \n",
       "1   s Gravesandestraat 55 Oost 1092 AA Amsterdam ...   \n",
       "2   s Gravesandestraat 55 Oost 1092 AA Amsterdam ...   \n",
       "3   s Gravesandestraat 55 Oost 1092 AA Amsterdam ...   \n",
       "4   s Gravesandestraat 55 Oost 1092 AA Amsterdam ...   \n",
       "5   s Gravesandestraat 55 Oost 1092 AA Amsterdam ...   \n",
       "6   s Gravesandestraat 55 Oost 1092 AA Amsterdam ...   \n",
       "7   s Gravesandestraat 55 Oost 1092 AA Amsterdam ...   \n",
       "8   s Gravesandestraat 55 Oost 1092 AA Amsterdam ...   \n",
       "9   s Gravesandestraat 55 Oost 1092 AA Amsterdam ...   \n",
       "\n",
       "   Additional_Number_of_Scoring Review_Date  Average_Score   Hotel_Name  \\\n",
       "0                           194    8/3/2017            7.7  Hotel Arena   \n",
       "1                           194    8/3/2017            7.7  Hotel Arena   \n",
       "2                           194   7/31/2017            7.7  Hotel Arena   \n",
       "3                           194   7/31/2017            7.7  Hotel Arena   \n",
       "4                           194   7/24/2017            7.7  Hotel Arena   \n",
       "5                           194   7/24/2017            7.7  Hotel Arena   \n",
       "6                           194   7/17/2017            7.7  Hotel Arena   \n",
       "7                           194   7/17/2017            7.7  Hotel Arena   \n",
       "8                           194    7/9/2017            7.7  Hotel Arena   \n",
       "9                           194    7/8/2017            7.7  Hotel Arena   \n",
       "\n",
       "  Reviewer_Nationality                                    Negative_Review  \\\n",
       "0              Russia    I am so angry that i made this post available...   \n",
       "1             Ireland                                         No Negative   \n",
       "2           Australia    Rooms are nice but for elderly a bit difficul...   \n",
       "3      United Kingdom    My room was dirty and I was afraid to walk ba...   \n",
       "4         New Zealand    You When I booked with your company on line y...   \n",
       "5              Poland    Backyard of the hotel is total mess shouldn t...   \n",
       "6      United Kingdom    Cleaner did not change our sheet and duvet ev...   \n",
       "7      United Kingdom    Apart from the price for the brekfast Everyth...   \n",
       "8             Belgium    Even though the pictures show very clean room...   \n",
       "9              Norway    The aircondition makes so much noise and its ...   \n",
       "\n",
       "   Review_Total_Negative_Word_Counts  Total_Number_of_Reviews  \\\n",
       "0                                397                     1403   \n",
       "1                                  0                     1403   \n",
       "2                                 42                     1403   \n",
       "3                                210                     1403   \n",
       "4                                140                     1403   \n",
       "5                                 17                     1403   \n",
       "6                                 33                     1403   \n",
       "7                                 11                     1403   \n",
       "8                                 34                     1403   \n",
       "9                                 15                     1403   \n",
       "\n",
       "                                     Positive_Review  \\\n",
       "0   Only the park outside of the hotel was beauti...   \n",
       "1   No real complaints the hotel was great great ...   \n",
       "2   Location was good and staff were ok It is cut...   \n",
       "3   Great location in nice surroundings the bar a...   \n",
       "4    Amazing location and building Romantic setting    \n",
       "5   Good restaurant with modern design great chil...   \n",
       "6   The room is spacious and bright The hotel is ...   \n",
       "7   Good location Set in a lovely park friendly s...   \n",
       "8                                        No Positive   \n",
       "9   The room was big enough and the bed is good T...   \n",
       "\n",
       "   Review_Total_Positive_Word_Counts  \\\n",
       "0                                 11   \n",
       "1                                105   \n",
       "2                                 21   \n",
       "3                                 26   \n",
       "4                                  8   \n",
       "5                                 20   \n",
       "6                                 18   \n",
       "7                                 19   \n",
       "8                                  0   \n",
       "9                                 50   \n",
       "\n",
       "   Total_Number_of_Reviews_Reviewer_Has_Given  Reviewer_Score  \\\n",
       "0                                           7             2.9   \n",
       "1                                           7             7.5   \n",
       "2                                           9             7.1   \n",
       "3                                           1             3.8   \n",
       "4                                           3             6.7   \n",
       "5                                           1             6.7   \n",
       "6                                           6             4.6   \n",
       "7                                           1            10.0   \n",
       "8                                           3             6.5   \n",
       "9                                           1             7.9   \n",
       "\n",
       "                                                Tags days_since_review  \\\n",
       "0  [' Leisure trip ', ' Couple ', ' Duplex Double...            0 days   \n",
       "1  [' Leisure trip ', ' Couple ', ' Duplex Double...            0 days   \n",
       "2  [' Leisure trip ', ' Family with young childre...            3 days   \n",
       "3  [' Leisure trip ', ' Solo traveler ', ' Duplex...            3 days   \n",
       "4  [' Leisure trip ', ' Couple ', ' Suite ', ' St...           10 days   \n",
       "5  [' Leisure trip ', ' Group ', ' Duplex Double ...           10 days   \n",
       "6  [' Leisure trip ', ' Group ', ' Duplex Twin Ro...           17 days   \n",
       "7  [' Leisure trip ', ' Couple ', ' Duplex Double...           17 days   \n",
       "8  [' Leisure trip ', ' Couple ', ' Duplex Double...           25 days   \n",
       "9  [' Leisure trip ', ' Couple ', ' Large King Ro...           26 days   \n",
       "\n",
       "         lat       lng  \n",
       "0  52.360576  4.915968  \n",
       "1  52.360576  4.915968  \n",
       "2  52.360576  4.915968  \n",
       "3  52.360576  4.915968  \n",
       "4  52.360576  4.915968  \n",
       "5  52.360576  4.915968  \n",
       "6  52.360576  4.915968  \n",
       "7  52.360576  4.915968  \n",
       "8  52.360576  4.915968  \n",
       "9  52.360576  4.915968  "
      ]
     },
     "execution_count": 2,
     "metadata": {},
     "output_type": "execute_result"
    }
   ],
   "source": [
    "r_file=pd.read_csv(\"E:\\\\VS All languages practice\\\\Intro_to_Python\\\\Projects\\\\My projects\\\\3rd_proj_Hotel_Rev\\\\Hotel_Reviews.csv\")\n",
    "r_file.head(10)"
   ]
  },
  {
   "cell_type": "markdown",
   "metadata": {},
   "source": [
    "##### Getting information about the data"
   ]
  },
  {
   "cell_type": "code",
   "execution_count": 3,
   "metadata": {},
   "outputs": [
    {
     "name": "stdout",
     "output_type": "stream",
     "text": [
      "<class 'pandas.core.frame.DataFrame'>\n",
      "RangeIndex: 515738 entries, 0 to 515737\n",
      "Data columns (total 17 columns):\n",
      " #   Column                                      Non-Null Count   Dtype  \n",
      "---  ------                                      --------------   -----  \n",
      " 0   Hotel_Address                               515738 non-null  object \n",
      " 1   Additional_Number_of_Scoring                515738 non-null  int64  \n",
      " 2   Review_Date                                 515738 non-null  object \n",
      " 3   Average_Score                               515738 non-null  float64\n",
      " 4   Hotel_Name                                  515738 non-null  object \n",
      " 5   Reviewer_Nationality                        515738 non-null  object \n",
      " 6   Negative_Review                             515738 non-null  object \n",
      " 7   Review_Total_Negative_Word_Counts           515738 non-null  int64  \n",
      " 8   Total_Number_of_Reviews                     515738 non-null  int64  \n",
      " 9   Positive_Review                             515738 non-null  object \n",
      " 10  Review_Total_Positive_Word_Counts           515738 non-null  int64  \n",
      " 11  Total_Number_of_Reviews_Reviewer_Has_Given  515738 non-null  int64  \n",
      " 12  Reviewer_Score                              515738 non-null  float64\n",
      " 13  Tags                                        515738 non-null  object \n",
      " 14  days_since_review                           515738 non-null  object \n",
      " 15  lat                                         512470 non-null  float64\n",
      " 16  lng                                         512470 non-null  float64\n",
      "dtypes: float64(4), int64(5), object(8)\n",
      "memory usage: 66.9+ MB\n"
     ]
    }
   ],
   "source": [
    "r_file.info()"
   ]
  },
  {
   "cell_type": "markdown",
   "metadata": {},
   "source": [
    "##### Describing the data"
   ]
  },
  {
   "cell_type": "code",
   "execution_count": 69,
   "metadata": {},
   "outputs": [
    {
     "data": {
      "text/html": [
       "<div>\n",
       "<style scoped>\n",
       "    .dataframe tbody tr th:only-of-type {\n",
       "        vertical-align: middle;\n",
       "    }\n",
       "\n",
       "    .dataframe tbody tr th {\n",
       "        vertical-align: top;\n",
       "    }\n",
       "\n",
       "    .dataframe thead th {\n",
       "        text-align: right;\n",
       "    }\n",
       "</style>\n",
       "<table border=\"1\" class=\"dataframe\">\n",
       "  <thead>\n",
       "    <tr style=\"text-align: right;\">\n",
       "      <th></th>\n",
       "      <th>Total_Reviews</th>\n",
       "      <th>Average_Score</th>\n",
       "      <th>Additional_Score</th>\n",
       "      <th>Total_Reviews_by_Reviewer</th>\n",
       "      <th>Reviewer_Score</th>\n",
       "    </tr>\n",
       "  </thead>\n",
       "  <tbody>\n",
       "    <tr>\n",
       "      <th>count</th>\n",
       "      <td>515738.000000</td>\n",
       "      <td>515738.000000</td>\n",
       "      <td>515738.000000</td>\n",
       "      <td>515738.000000</td>\n",
       "      <td>515738.000000</td>\n",
       "    </tr>\n",
       "    <tr>\n",
       "      <th>mean</th>\n",
       "      <td>2743.743944</td>\n",
       "      <td>8.397487</td>\n",
       "      <td>498.081836</td>\n",
       "      <td>7.166001</td>\n",
       "      <td>8.395077</td>\n",
       "    </tr>\n",
       "    <tr>\n",
       "      <th>std</th>\n",
       "      <td>2317.464868</td>\n",
       "      <td>0.548048</td>\n",
       "      <td>500.538467</td>\n",
       "      <td>11.040228</td>\n",
       "      <td>1.637856</td>\n",
       "    </tr>\n",
       "    <tr>\n",
       "      <th>min</th>\n",
       "      <td>43.000000</td>\n",
       "      <td>5.200000</td>\n",
       "      <td>1.000000</td>\n",
       "      <td>1.000000</td>\n",
       "      <td>2.500000</td>\n",
       "    </tr>\n",
       "    <tr>\n",
       "      <th>25%</th>\n",
       "      <td>1161.000000</td>\n",
       "      <td>8.100000</td>\n",
       "      <td>169.000000</td>\n",
       "      <td>1.000000</td>\n",
       "      <td>7.500000</td>\n",
       "    </tr>\n",
       "    <tr>\n",
       "      <th>50%</th>\n",
       "      <td>2134.000000</td>\n",
       "      <td>8.400000</td>\n",
       "      <td>341.000000</td>\n",
       "      <td>3.000000</td>\n",
       "      <td>8.800000</td>\n",
       "    </tr>\n",
       "    <tr>\n",
       "      <th>75%</th>\n",
       "      <td>3613.000000</td>\n",
       "      <td>8.800000</td>\n",
       "      <td>660.000000</td>\n",
       "      <td>8.000000</td>\n",
       "      <td>9.600000</td>\n",
       "    </tr>\n",
       "    <tr>\n",
       "      <th>max</th>\n",
       "      <td>16670.000000</td>\n",
       "      <td>9.800000</td>\n",
       "      <td>2682.000000</td>\n",
       "      <td>355.000000</td>\n",
       "      <td>10.000000</td>\n",
       "    </tr>\n",
       "  </tbody>\n",
       "</table>\n",
       "</div>"
      ],
      "text/plain": [
       "       Total_Reviews  Average_Score  Additional_Score  \\\n",
       "count  515738.000000  515738.000000     515738.000000   \n",
       "mean     2743.743944       8.397487        498.081836   \n",
       "std      2317.464868       0.548048        500.538467   \n",
       "min        43.000000       5.200000          1.000000   \n",
       "25%      1161.000000       8.100000        169.000000   \n",
       "50%      2134.000000       8.400000        341.000000   \n",
       "75%      3613.000000       8.800000        660.000000   \n",
       "max     16670.000000       9.800000       2682.000000   \n",
       "\n",
       "       Total_Reviews_by_Reviewer  Reviewer_Score  \n",
       "count              515738.000000   515738.000000  \n",
       "mean                    7.166001        8.395077  \n",
       "std                    11.040228        1.637856  \n",
       "min                     1.000000        2.500000  \n",
       "25%                     1.000000        7.500000  \n",
       "50%                     3.000000        8.800000  \n",
       "75%                     8.000000        9.600000  \n",
       "max                   355.000000       10.000000  "
      ]
     },
     "execution_count": 69,
     "metadata": {},
     "output_type": "execute_result"
    }
   ],
   "source": [
    "r_file.describe()"
   ]
  },
  {
   "cell_type": "markdown",
   "metadata": {},
   "source": [
    "##### Removing some useless columns (according to my view if point)"
   ]
  },
  {
   "cell_type": "code",
   "execution_count": 4,
   "metadata": {},
   "outputs": [],
   "source": [
    "# Columns mentioned below will be removed from the data\n",
    "r_file.drop(['Review_Total_Negative_Word_Counts', 'Review_Total_Positive_Word_Counts'], axis=1, inplace=True)"
   ]
  },
  {
   "cell_type": "markdown",
   "metadata": {},
   "source": [
    "##### Checking the null values"
   ]
  },
  {
   "cell_type": "code",
   "execution_count": 5,
   "metadata": {},
   "outputs": [
    {
     "data": {
      "text/plain": [
       "Hotel_Address                                    0\n",
       "Additional_Number_of_Scoring                     0\n",
       "Review_Date                                      0\n",
       "Average_Score                                    0\n",
       "Hotel_Name                                       0\n",
       "Reviewer_Nationality                             0\n",
       "Negative_Review                                  0\n",
       "Total_Number_of_Reviews                          0\n",
       "Positive_Review                                  0\n",
       "Total_Number_of_Reviews_Reviewer_Has_Given       0\n",
       "Reviewer_Score                                   0\n",
       "Tags                                             0\n",
       "days_since_review                                0\n",
       "lat                                           3268\n",
       "lng                                           3268\n",
       "dtype: int64"
      ]
     },
     "execution_count": 5,
     "metadata": {},
     "output_type": "execute_result"
    }
   ],
   "source": [
    "# checking for the null values\n",
    "r_file.isnull().sum()"
   ]
  },
  {
   "cell_type": "markdown",
   "metadata": {},
   "source": [
    "##### Filling the above null values in two columns"
   ]
  },
  {
   "cell_type": "code",
   "execution_count": 6,
   "metadata": {},
   "outputs": [
    {
     "data": {
      "text/plain": [
       "0"
      ]
     },
     "execution_count": 6,
     "metadata": {},
     "output_type": "execute_result"
    }
   ],
   "source": [
    "def fill(value):\n",
    "    return r_file[value].fillna(str(r_file['lat'].mode))\n",
    "miss_col=['lat', 'lng'] # the missing values in the mentioned column will be filled with the most common values\n",
    "for v in miss_col:\n",
    "    r_file[v]=fill(v)\n",
    "\n",
    "# checking whether the values have been filled or not\n",
    "r_file['lat'].isnull().sum() # will show 0 result"
   ]
  },
  {
   "cell_type": "markdown",
   "metadata": {},
   "source": [
    "##### Chnaging the names of some columns for ease"
   ]
  },
  {
   "cell_type": "code",
   "execution_count": 7,
   "metadata": {},
   "outputs": [],
   "source": [
    "re_cols={'Hotel_Address':'Address', 'Additional_Number_of_Scoring':'Additional_Score', 'Total_Number_of_Reviews':'Total_Reviews','Total_Number_of_Reviews_Reviewer_Has_Given':'Total_Reviews_by_Reviewer','lat':'Latitude','lng':'Longitude'}\n",
    "r_file.rename(columns=re_cols, inplace=True) # the names will be changed as mentioned above"
   ]
  },
  {
   "cell_type": "markdown",
   "metadata": {},
   "source": [
    "##### Re_ordering the columns to inhense the readability"
   ]
  },
  {
   "cell_type": "code",
   "execution_count": 8,
   "metadata": {},
   "outputs": [
    {
     "data": {
      "text/html": [
       "<div>\n",
       "<style scoped>\n",
       "    .dataframe tbody tr th:only-of-type {\n",
       "        vertical-align: middle;\n",
       "    }\n",
       "\n",
       "    .dataframe tbody tr th {\n",
       "        vertical-align: top;\n",
       "    }\n",
       "\n",
       "    .dataframe thead th {\n",
       "        text-align: right;\n",
       "    }\n",
       "</style>\n",
       "<table border=\"1\" class=\"dataframe\">\n",
       "  <thead>\n",
       "    <tr style=\"text-align: right;\">\n",
       "      <th></th>\n",
       "      <th>Hotel_Name</th>\n",
       "      <th>Address</th>\n",
       "      <th>Total_Reviews</th>\n",
       "      <th>Average_Score</th>\n",
       "      <th>Additional_Score</th>\n",
       "      <th>Review_Date</th>\n",
       "      <th>Reviewer_Nationality</th>\n",
       "      <th>Total_Reviews_by_Reviewer</th>\n",
       "      <th>Reviewer_Score</th>\n",
       "      <th>Positive_Review</th>\n",
       "      <th>Negative_Review</th>\n",
       "      <th>days_since_review</th>\n",
       "      <th>Tags</th>\n",
       "      <th>Longitude</th>\n",
       "      <th>Latitude</th>\n",
       "    </tr>\n",
       "  </thead>\n",
       "  <tbody>\n",
       "    <tr>\n",
       "      <th>0</th>\n",
       "      <td>Hotel Arena</td>\n",
       "      <td>s Gravesandestraat 55 Oost 1092 AA Amsterdam ...</td>\n",
       "      <td>1403</td>\n",
       "      <td>7.7</td>\n",
       "      <td>194</td>\n",
       "      <td>8/3/2017</td>\n",
       "      <td>Russia</td>\n",
       "      <td>7</td>\n",
       "      <td>2.9</td>\n",
       "      <td>Only the park outside of the hotel was beauti...</td>\n",
       "      <td>I am so angry that i made this post available...</td>\n",
       "      <td>0 days</td>\n",
       "      <td>[' Leisure trip ', ' Couple ', ' Duplex Double...</td>\n",
       "      <td>4.915968</td>\n",
       "      <td>52.360576</td>\n",
       "    </tr>\n",
       "    <tr>\n",
       "      <th>1</th>\n",
       "      <td>Hotel Arena</td>\n",
       "      <td>s Gravesandestraat 55 Oost 1092 AA Amsterdam ...</td>\n",
       "      <td>1403</td>\n",
       "      <td>7.7</td>\n",
       "      <td>194</td>\n",
       "      <td>8/3/2017</td>\n",
       "      <td>Ireland</td>\n",
       "      <td>7</td>\n",
       "      <td>7.5</td>\n",
       "      <td>No real complaints the hotel was great great ...</td>\n",
       "      <td>No Negative</td>\n",
       "      <td>0 days</td>\n",
       "      <td>[' Leisure trip ', ' Couple ', ' Duplex Double...</td>\n",
       "      <td>4.915968</td>\n",
       "      <td>52.360576</td>\n",
       "    </tr>\n",
       "    <tr>\n",
       "      <th>2</th>\n",
       "      <td>Hotel Arena</td>\n",
       "      <td>s Gravesandestraat 55 Oost 1092 AA Amsterdam ...</td>\n",
       "      <td>1403</td>\n",
       "      <td>7.7</td>\n",
       "      <td>194</td>\n",
       "      <td>7/31/2017</td>\n",
       "      <td>Australia</td>\n",
       "      <td>9</td>\n",
       "      <td>7.1</td>\n",
       "      <td>Location was good and staff were ok It is cut...</td>\n",
       "      <td>Rooms are nice but for elderly a bit difficul...</td>\n",
       "      <td>3 days</td>\n",
       "      <td>[' Leisure trip ', ' Family with young childre...</td>\n",
       "      <td>4.915968</td>\n",
       "      <td>52.360576</td>\n",
       "    </tr>\n",
       "  </tbody>\n",
       "</table>\n",
       "</div>"
      ],
      "text/plain": [
       "    Hotel_Name                                            Address  \\\n",
       "0  Hotel Arena   s Gravesandestraat 55 Oost 1092 AA Amsterdam ...   \n",
       "1  Hotel Arena   s Gravesandestraat 55 Oost 1092 AA Amsterdam ...   \n",
       "2  Hotel Arena   s Gravesandestraat 55 Oost 1092 AA Amsterdam ...   \n",
       "\n",
       "   Total_Reviews  Average_Score  Additional_Score Review_Date  \\\n",
       "0           1403            7.7               194    8/3/2017   \n",
       "1           1403            7.7               194    8/3/2017   \n",
       "2           1403            7.7               194   7/31/2017   \n",
       "\n",
       "  Reviewer_Nationality  Total_Reviews_by_Reviewer  Reviewer_Score  \\\n",
       "0              Russia                           7             2.9   \n",
       "1             Ireland                           7             7.5   \n",
       "2           Australia                           9             7.1   \n",
       "\n",
       "                                     Positive_Review  \\\n",
       "0   Only the park outside of the hotel was beauti...   \n",
       "1   No real complaints the hotel was great great ...   \n",
       "2   Location was good and staff were ok It is cut...   \n",
       "\n",
       "                                     Negative_Review days_since_review  \\\n",
       "0   I am so angry that i made this post available...            0 days   \n",
       "1                                        No Negative            0 days   \n",
       "2   Rooms are nice but for elderly a bit difficul...            3 days   \n",
       "\n",
       "                                                Tags Longitude   Latitude  \n",
       "0  [' Leisure trip ', ' Couple ', ' Duplex Double...  4.915968  52.360576  \n",
       "1  [' Leisure trip ', ' Couple ', ' Duplex Double...  4.915968  52.360576  \n",
       "2  [' Leisure trip ', ' Family with young childre...  4.915968  52.360576  "
      ]
     },
     "execution_count": 8,
     "metadata": {},
     "output_type": "execute_result"
    }
   ],
   "source": [
    "# now rearranging the order of the columns to make ease in readability\n",
    "r_file=r_file[['Hotel_Name', 'Address', 'Total_Reviews', 'Average_Score', 'Additional_Score', 'Review_Date', 'Reviewer_Nationality', 'Total_Reviews_by_Reviewer', 'Reviewer_Score', 'Positive_Review', 'Negative_Review', 'days_since_review', 'Tags', 'Longitude', 'Latitude']] # the order of columns will be changed\n",
    "r_file.head(3) # to confirm the changed order of the columns"
   ]
  },
  {
   "cell_type": "markdown",
   "metadata": {},
   "source": [
    "##### Extracting the names of country names form the address where the hotels are located"
   ]
  },
  {
   "cell_type": "code",
   "execution_count": 9,
   "metadata": {},
   "outputs": [
    {
     "data": {
      "text/plain": [
       "array(['Amsterdam Netherlands', 'United Kingdom', 'Paris France',\n",
       "       'Barcelona Spain', 'Milan Italy', 'Vienna Austria'], dtype=object)"
      ]
     },
     "execution_count": 9,
     "metadata": {},
     "output_type": "execute_result"
    }
   ],
   "source": [
    "r_file['Country'] = (r_file['Address'].str.split().str[-2:].str.join(' ')) # will extract the name of countries as the last two words\n",
    "r_file['Country'].unique()"
   ]
  },
  {
   "cell_type": "markdown",
   "metadata": {},
   "source": [
    "##### Grouping the names of countries in order to know the total number of hotels being visited in that country"
   ]
  },
  {
   "cell_type": "code",
   "execution_count": 28,
   "metadata": {},
   "outputs": [
    {
     "data": {
      "text/html": [
       "<div>\n",
       "<style scoped>\n",
       "    .dataframe tbody tr th:only-of-type {\n",
       "        vertical-align: middle;\n",
       "    }\n",
       "\n",
       "    .dataframe tbody tr th {\n",
       "        vertical-align: top;\n",
       "    }\n",
       "\n",
       "    .dataframe thead th {\n",
       "        text-align: right;\n",
       "    }\n",
       "</style>\n",
       "<table border=\"1\" class=\"dataframe\">\n",
       "  <thead>\n",
       "    <tr style=\"text-align: right;\">\n",
       "      <th></th>\n",
       "      <th>Country_Names</th>\n",
       "      <th>Total_visits</th>\n",
       "    </tr>\n",
       "  </thead>\n",
       "  <tbody>\n",
       "    <tr>\n",
       "      <th>4</th>\n",
       "      <td>United Kingdom</td>\n",
       "      <td>262301</td>\n",
       "    </tr>\n",
       "    <tr>\n",
       "      <th>1</th>\n",
       "      <td>Barcelona Spain</td>\n",
       "      <td>60149</td>\n",
       "    </tr>\n",
       "    <tr>\n",
       "      <th>3</th>\n",
       "      <td>Paris France</td>\n",
       "      <td>59928</td>\n",
       "    </tr>\n",
       "    <tr>\n",
       "      <th>0</th>\n",
       "      <td>Amsterdam Netherlands</td>\n",
       "      <td>57214</td>\n",
       "    </tr>\n",
       "    <tr>\n",
       "      <th>5</th>\n",
       "      <td>Vienna Austria</td>\n",
       "      <td>38939</td>\n",
       "    </tr>\n",
       "    <tr>\n",
       "      <th>2</th>\n",
       "      <td>Milan Italy</td>\n",
       "      <td>37207</td>\n",
       "    </tr>\n",
       "  </tbody>\n",
       "</table>\n",
       "</div>"
      ],
      "text/plain": [
       "           Country_Names  Total_visits\n",
       "4         United Kingdom        262301\n",
       "1        Barcelona Spain         60149\n",
       "3           Paris France         59928\n",
       "0  Amsterdam Netherlands         57214\n",
       "5         Vienna Austria         38939\n",
       "2            Milan Italy         37207"
      ]
     },
     "execution_count": 28,
     "metadata": {},
     "output_type": "execute_result"
    }
   ],
   "source": [
    "grp_country=r_file.groupby('Country').size().reset_index().sort_values(by=0, ascending=False)\n",
    "grp_country.columns=['Country_Names', 'Total_visits']\n",
    "grp_country"
   ]
  },
  {
   "cell_type": "markdown",
   "metadata": {},
   "source": [
    "### Graphically, above results can be shown as"
   ]
  },
  {
   "cell_type": "code",
   "execution_count": 27,
   "metadata": {},
   "outputs": [
    {
     "data": {
      "image/png": "[encoded data removed]",
      "text/plain": [
       "<Figure size 640x480 with 1 Axes>"
      ]
     },
     "metadata": {},
     "output_type": "display_data"
    }
   ],
   "source": [
    "# previous data\n",
    "grp_country=r_file.groupby('Country').size().reset_index().sort_values(by=0, ascending=False)\n",
    "grp_country.columns=['Country_Names', 'Total_visits']\n",
    "#_________________________________________________________\n",
    "tot_vst=np.array(grp_country['Total_visits']).flatten() # Total visits in array formate\n",
    "tit_ctry=np.array(grp_country['Country_Names']).flatten() # title of countries being visited in array formate\n",
    "\n",
    "plt.style.use('fivethirtyeight')\n",
    "expl=[0.03,0,0,0,0,0]\n",
    "plt.pie(tot_vst, labels=tit_ctry, explode=expl, autopct=\"%1.2f\",wedgeprops={'edgecolor':'Yellow'}, shadow=True)\n",
    "plt.tight_layout()\n",
    "plt.show()\n"
   ]
  },
  {
   "cell_type": "markdown",
   "metadata": {},
   "source": [
    "### Result: ----> From above information it can be seen that the most of the people visit UK \n"
   ]
  },
  {
   "cell_type": "markdown",
   "metadata": {},
   "source": [
    "##### To know the names of hotels"
   ]
  },
  {
   "cell_type": "code",
   "execution_count": null,
   "metadata": {},
   "outputs": [
    {
     "data": {
      "text/plain": [
       "array(['Hotel Arena', 'K K Hotel George', 'Apex Temple Court Hotel', ...,\n",
       "       'The Berkeley', 'Holiday Inn London Kensington',\n",
       "       'Atlantis Hotel Vienna'], dtype=object)"
      ]
     },
     "execution_count": 81,
     "metadata": {},
     "output_type": "execute_result"
    }
   ],
   "source": [
    "# unique hotels\n",
    "r_file['Hotel_Name'].unique()"
   ]
  },
  {
   "cell_type": "code",
   "execution_count": 47,
   "metadata": {},
   "outputs": [],
   "source": [
    "# r_file.duplicated(subset=['Total_Reviews']).sum()\n",
    "# r_file.duplicated(subset=['Average_Score']).sum()\n",
    "# r_file.duplicated(subset=['Additional_Score']).sum()\n",
    "\n",
    "#### Since all of these columns almost contain same data there we should neglect them"
   ]
  },
  {
   "cell_type": "markdown",
   "metadata": {},
   "source": [
    "##### Viewer nationality and reviewer score visualization"
   ]
  },
  {
   "cell_type": "code",
   "execution_count": 68,
   "metadata": {},
   "outputs": [
    {
     "data": {
      "image/png": "[encoded data removed]",
      "text/plain": [
       "<Figure size 640x480 with 1 Axes>"
      ]
     },
     "metadata": {},
     "output_type": "display_data"
    }
   ],
   "source": [
    "from turtle import color\n",
    "\n",
    "\n",
    "nation=np.array(r_file['Reviewer_Nationality'].drop_duplicates().head(20)).flatten()\n",
    "\n",
    "rev_scr=np.array(r_file['Reviewer_Score'].head(20)).flatten()\n",
    "\n",
    "\n",
    "plt.style.use('fivethirtyeight')\n",
    "plt.bar(nation, rev_scr, color='g', width=0.4)\n",
    "plt.title('Graphical visualization of nationality of reviewer according to the score', fontdict={'fontsize':10})\n",
    "plt.xlabel('Nationality')\n",
    "plt.ylabel('Reviewer Score')\n",
    "plt.xticks(fontsize=7, ha='center', rotation=90)\n",
    "plt.tight_layout()\n",
    "plt.show()\n",
    "\n"
   ]
  }
 ],
 "metadata": {
  "kernelspec": {
   "display_name": "Python 3.10.2 64-bit",
   "language": "python",
   "name": "python3"
  },
  "language_info": {
   "codemirror_mode": {
    "name": "ipython",
    "version": 3
   },
   "file_extension": ".py",
   "mimetype": "text/x-python",
   "name": "python",
   "nbconvert_exporter": "python",
   "pygments_lexer": "ipython3",
   "version": "3.10.2"
  },
  "orig_nbformat": 4,
  "vscode": {
   "interpreter": {
    "hash": "beedbe2faf2f7048d727558d0bc3221e7eba2a0b921cac4d4771b2feb8f74b30"
   }
  }
 },
 "nbformat": 4,
 "nbformat_minor": 2
}
